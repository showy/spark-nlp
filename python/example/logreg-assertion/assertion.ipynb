{
 "cells": [
  {
   "cell_type": "markdown",
   "metadata": {},
   "source": [
    "Necessary imports"
   ]
  },
  {
   "cell_type": "code",
   "execution_count": 1,
   "metadata": {},
   "outputs": [],
   "source": [
    "import sys\n",
    "sys.path.append('../../')\n",
    "\n",
    "from pyspark.sql import SparkSession\n",
    "from pyspark.ml import Pipeline\n",
    "\n",
    "from sparknlp.annotator import *\n",
    "from sparknlp.common import *\n",
    "from sparknlp.base import *\n",
    "\n",
    "from pathlib import Path\n",
    "\n",
    "if sys.version_info[0] < 3:\n",
    "    from urllib import urlretrieve\n",
    "else:\n",
    "    from urllib.request import urlretrieve\n"
   ]
  },
  {
   "cell_type": "markdown",
   "metadata": {},
   "source": [
    "Create SparkSession if not already in pyspark"
   ]
  },
  {
   "cell_type": "code",
   "execution_count": 2,
   "metadata": {},
   "outputs": [],
   "source": [
    "spark = SparkSession.builder \\\n",
    "    .appName(\"assertion-status\")\\\n",
    "    .master(\"local[2]\")\\\n",
    "    .config(\"spark.driver.memory\",\"4G\")\\\n",
    "    .config(\"spark.driver.maxResultSize\", \"2G\")\\\n",
    "    .config(\"spark.jar\", \"lib/sparknlp.jar\")\\\n",
    "    .config(\"spark.kryoserializer.buffer.max\", \"500m\")\\\n",
    "    .getOrCreate()"
   ]
  },
  {
   "cell_type": "raw",
   "metadata": {},
   "source": [
    "We designate the embeddings data and download it. AssertionLog reg only uses external embeddings for training."
   ]
  },
  {
   "cell_type": "code",
   "execution_count": 3,
   "metadata": {},
   "outputs": [],
   "source": [
    "import time\n",
    "\n",
    "\n",
    "embeddingsFile = 'PubMed-shuffle-win-2.bin'\n",
    "embeddingsUrl = 'https://s3.amazonaws.com/auxdata.johnsnowlabs.com/PubMed-shuffle-win-2.bin'\n",
    "# this may take a couple minutes\n",
    "if not Path(embeddingsFile).is_file():\n",
    "    urlretrieve(embeddingsUrl, embeddingsFile)\n",
    "\n",
    "documentAssembler = DocumentAssembler()\\\n",
    "    .setInputCol(\"sentence\")\\\n",
    "    .setOutputCol(\"document\")\\\n",
    "\n",
    "assertion = AssertionLogRegApproach()\\\n",
    "    .setLabelCol(\"label\")\\\n",
    "    .setInputCols([\"document\"])\\\n",
    "    .setOutputCol(\"assertion\")\\\n",
    "    .setBefore(11)\\\n",
    "    .setAfter(13)\\\n",
    "    .setEmbeddingsSource(embeddingsFile,200,3)\n",
    "\n",
    "\n",
    "finisher = Finisher() \\\n",
    "    .setInputCols([\"assertion\"]) \\\n",
    "    .setIncludeKeys(True)\n",
    "\n",
    "pipeline = Pipeline(\n",
    "    stages = [\n",
    "    documentAssembler,\n",
    "    assertion,\n",
    "    finisher\n",
    "  ])\n"
   ]
  },
  {
   "cell_type": "markdown",
   "metadata": {},
   "source": [
    "We load the parquet dataset and put it in memory"
   ]
  },
  {
   "cell_type": "code",
   "execution_count": 4,
   "metadata": {},
   "outputs": [
    {
     "name": "stdout",
     "output_type": "stream",
     "text": [
      "+--------------------+--------------------+--------+-----+---+\n",
      "|            sentence|              target|   label|start|end|\n",
      "+--------------------+--------------------+--------+-----+---+\n",
      "|**initials ______...|multinodular goit...|Affirmed|   21| 25|\n",
      "|02) mild aortic r...|mild aortic regur...|Affirmed|    1|  3|\n",
      "|02) mild left atr...|mild left atrial ...|Affirmed|    1|  4|\n",
      "|02) mild left atr...|mild left atrial ...|Affirmed|    1|  4|\n",
      "|02) mild to moder...|mild to moderate ...|Affirmed|    1|  5|\n",
      "|02) mild to moder...|mild to moderate ...|Affirmed|    1|  5|\n",
      "|02) no valvular a...|valvular abnormal...| Negated|    2|  3|\n",
      "|02) nondilated ri...|nondilated right ...|Affirmed|    1|  9|\n",
      "|02) normal left v...|normal left ventr...|Affirmed|    1|  4|\n",
      "|02) normal left v...|normal left ventr...|Affirmed|    1|  6|\n",
      "|02) paradoxical s...|post-operative se...|Affirmed|    6|  8|\n",
      "|02) small left ve...|small left ventri...|Affirmed|    1|  8|\n",
      "|03) mild mitral r...|mild mitral regur...|Affirmed|    1|  3|\n",
      "|03) mitral annula...|mitral annular ca...|Affirmed|    1|  3|\n",
      "|03) moderate left...|moderate left atr...|Affirmed|    1|  4|\n",
      "|03) normal pulmon...|normal pulmonary ...|Affirmed|    1|  5|\n",
      "|03) thickened aor...|thickened aortic ...|Affirmed|    1|  3|\n",
      "|03) thickened aor...|thickened aortic ...|Affirmed|    1|  6|\n",
      "|03) thickened aor...|thickened aortic ...|Affirmed|    1|  8|\n",
      "|03) thickened mit...|thickened mitral ...|Affirmed|    1|  6|\n",
      "+--------------------+--------------------+--------+-----+---+\n",
      "only showing top 20 rows\n",
      "\n"
     ]
    }
   ],
   "source": [
    "#Load the input data to be annotated\n",
    "data = spark. \\\n",
    "        read. \\\n",
    "        parquet(\"../../../src/test/resources/negex.parquet\"). \\\n",
    "        limit(3000)\n",
    "data.cache()\n",
    "data.count()\n",
    "data.show()"
   ]
  },
  {
   "cell_type": "markdown",
   "metadata": {},
   "source": [
    "We fit the data"
   ]
  },
  {
   "cell_type": "code",
   "execution_count": 5,
   "metadata": {
    "scrolled": false
   },
   "outputs": [
    {
     "name": "stdout",
     "output_type": "stream",
     "text": [
      "Start fitting\n",
      "Fitting is ended\n",
      "136.5720419883728\n"
     ]
    }
   ],
   "source": [
    "start = time.time()\n",
    "print(\"Start fitting\")\n",
    "model = pipeline.fit(data)\n",
    "print(\"Fitting is ended\")\n",
    "print (time.time() - start)"
   ]
  },
  {
   "cell_type": "markdown",
   "metadata": {},
   "source": [
    "Prediction with finisher output"
   ]
  },
  {
   "cell_type": "code",
   "execution_count": null,
   "metadata": {},
   "outputs": [],
   "source": [
    "result = model.transform(data)\n",
    "result.select(\"sentence\", \"target\", \"finished_assertion\").show()"
   ]
  },
  {
   "cell_type": "markdown",
   "metadata": {},
   "source": [
    "Save the model to disk and read it back"
   ]
  },
  {
   "cell_type": "code",
   "execution_count": null,
   "metadata": {},
   "outputs": [],
   "source": [
    "pipeline.write().overwrite().save(\"./assertion_pipeline\")\n",
    "model.write().overwrite().save(\"./assertion_model\")"
   ]
  },
  {
   "cell_type": "code",
   "execution_count": null,
   "metadata": {
    "scrolled": false
   },
   "outputs": [],
   "source": [
    "from pyspark.ml import PipelineModel, Pipeline\n",
    "\n",
    "Pipeline.read().load(\"./assertion_pipeline\")\n",
    "sameModel = PipelineModel.read().load(\"./assertion_model\")"
   ]
  },
  {
   "cell_type": "code",
   "execution_count": null,
   "metadata": {},
   "outputs": [],
   "source": [
    "sameModel.transform(data).select(\"sentence\", \"target\", \"finished_assertion\").show()"
   ]
  },
  {
   "cell_type": "code",
   "execution_count": null,
   "metadata": {},
   "outputs": [],
   "source": []
  }
 ],
 "metadata": {
  "anaconda-cloud": {},
  "kernelspec": {
   "display_name": "Python 3",
   "language": "python",
   "name": "python3"
  },
  "language_info": {
   "codemirror_mode": {
    "name": "ipython",
    "version": 3
   },
   "file_extension": ".py",
   "mimetype": "text/x-python",
   "name": "python",
   "nbconvert_exporter": "python",
   "pygments_lexer": "ipython3",
   "version": "3.6.4"
  }
 },
 "nbformat": 4,
 "nbformat_minor": 1
}
