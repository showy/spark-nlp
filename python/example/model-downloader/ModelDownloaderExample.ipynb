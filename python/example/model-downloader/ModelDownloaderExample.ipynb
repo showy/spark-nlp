{
 "cells": [
  {
   "cell_type": "code",
   "execution_count": null,
   "metadata": {},
   "outputs": [],
   "source": [
    "import os\n",
    "import sys\n",
    "sys.path.append('../../')\n",
    "\n",
    "print(sys.version)\n",
    "\n",
    "from sparknlp.pretrained import ResourceDownloader\n",
    "from sparknlp.base import DocumentAssembler\n",
    "from sparknlp.annotator import SentenceDetector\n",
    "\n",
    "from pyspark.sql import SparkSession\n",
    "\n",
    "spark = SparkSession.builder \\\n",
    "    .appName(\"downloader-example\")\\\n",
    "    .master(\"local[1]\")\\\n",
    "    .getOrCreate()\n",
    "\n",
    "# instantiate the downloader\n",
    "downloader = ResourceDownloader()\n"
   ]
  },
  {
   "cell_type": "code",
   "execution_count": null,
   "metadata": {},
   "outputs": [],
   "source": [
    "# create some mock data to play with\n",
    "l = [\n",
    "  (1,'To be or not to be'),\n",
    "  (2,'This is it!')\n",
    "]\n",
    "\n",
    "data = spark.createDataFrame(l, ['docID','text'])"
   ]
  },
  {
   "cell_type": "code",
   "execution_count": null,
   "metadata": {},
   "outputs": [],
   "source": [
    "# download directly - models\n",
    "\n",
    "# document assembler\n",
    "assembler = downloader.downloadModel(DocumentAssembler.reader, \"document_std\", \"en\")\n",
    "output = assembler.transform(data)\n",
    "output.show()\n",
    "\n",
    "\n",
    "# sentence detector\n",
    "detector = downloader.downloadModel(SentenceDetector.reader, \"sentence_std\", \"en\")\n",
    "detector.transform(output).show()\n"
   ]
  },
  {
   "cell_type": "code",
   "execution_count": null,
   "metadata": {},
   "outputs": [],
   "source": [
    "# download directly - pipeline models\n",
    "\n",
    "# simple pipeline with document assembler and tokenizer\n",
    "pipeline = downloader.downloadPipeline(\"pipeline_std\", \"en\")\n",
    "pipeline.transform(data).show()"
   ]
  },
  {
   "cell_type": "code",
   "execution_count": null,
   "metadata": {},
   "outputs": [],
   "source": [
    "# download predefined - models\n",
    "from pretrained.en.models import DocumentAssembler, SentenceDetector, Tokenizer, Pos, Ner\n",
    "assembler_std = DocumentAssembler.std()\n",
    "assembler_std.transform(data).show()\n",
    "\n",
    "SentenceDetector.std()\n",
    "Tokenizer.std()\n",
    "Pos.fast()\n",
    "Ner.fast()"
   ]
  },
  {
   "cell_type": "code",
   "execution_count": null,
   "metadata": {},
   "outputs": [],
   "source": [
    "# download predefined - pipelines models\n",
    "\n",
    "from pretrained.en.pipelines import SentenceDetector, Ner, Pos\n",
    "\n",
    "# sentence detector\n",
    "sent_detector_std = SentenceDetector.std()\n",
    "sent_detector_std.transform(data).show()\n",
    "\n",
    "# part of speech\n",
    "pos_std = Pos.fast()\n",
    "pos_tagged = pos_std.transform(data)\n",
    "pos_tagged.show()\n",
    "\n",
    "# named entity recognition\n",
    "ner_std = Ner.fast()\n",
    "ner_std.transform(data).show()\n"
   ]
  },
  {
   "cell_type": "code",
   "execution_count": null,
   "metadata": {},
   "outputs": [],
   "source": []
  }
 ],
 "metadata": {
  "kernelspec": {
   "display_name": "Python 3",
   "language": "python",
   "name": "python3"
  },
  "language_info": {
   "codemirror_mode": {
    "name": "ipython",
    "version": 3
   },
   "file_extension": ".py",
   "mimetype": "text/x-python",
   "name": "python",
   "nbconvert_exporter": "python",
   "pygments_lexer": "ipython3",
   "version": "3.6.1"
  }
 },
 "nbformat": 4,
 "nbformat_minor": 2
}
